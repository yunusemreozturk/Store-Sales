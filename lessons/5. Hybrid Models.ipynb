{
 "cells": [
  {
   "cell_type": "markdown",
   "source": [
    "### Introduction"
   ],
   "metadata": {
    "collapsed": false
   }
  },
  {
   "cell_type": "code",
   "execution_count": 4,
   "metadata": {
    "collapsed": true
   },
   "outputs": [
    {
     "data": {
      "text/plain": "                                          sales                           \\\ndate                                 2013-01-01   2013-01-02  2013-01-03   \nstore_nbr family                                                           \n1         AUTOMOTIVE                        0.0     2.000000    3.000000   \n          BABY CARE                         0.0     0.000000    0.000000   \n          BEAUTY                            0.0     2.000000    0.000000   \n          BEVERAGES                         0.0  1091.000000  919.000000   \n          BOOKS                             0.0     0.000000    0.000000   \n...                                         ...          ...         ...   \n9         POULTRY                           0.0   651.291992  509.496002   \n          PREPARED FOODS                    0.0    83.000000   66.000000   \n          PRODUCE                           0.0     0.000000    0.000000   \n          SCHOOL AND OFFICE SUPPLIES        0.0     0.000000    0.000000   \n          SEAFOOD                           0.0    29.214001   25.000000   \n\n                                                                           \\\ndate                                  2013-01-04   2013-01-05  2013-01-06   \nstore_nbr family                                                            \n1         AUTOMOTIVE                    3.000000     5.000000    2.000000   \n          BABY CARE                     0.000000     0.000000    0.000000   \n          BEAUTY                        3.000000     3.000000    0.000000   \n          BEVERAGES                   953.000000  1160.000000  407.000000   \n          BOOKS                         0.000000     0.000000    0.000000   \n...                                          ...          ...         ...   \n9         POULTRY                     332.671997   510.919006  604.244019   \n          PREPARED FOODS               57.000000    84.000000   82.000000   \n          PRODUCE                       0.000000     0.000000    0.000000   \n          SCHOOL AND OFFICE SUPPLIES    0.000000     0.000000    0.000000   \n          SEAFOOD                      11.000000    28.361000   36.553001   \n\n                                                                            \\\ndate                                   2013-01-07   2013-01-08  2013-01-09   \nstore_nbr family                                                             \n1         AUTOMOTIVE                     0.000000     2.000000     2.00000   \n          BABY CARE                      0.000000     0.000000     0.00000   \n          BEAUTY                         1.000000     3.000000     1.00000   \n          BEVERAGES                   1158.000000  1029.000000  1186.00000   \n          BOOKS                          0.000000     0.000000     0.00000   \n...                                           ...          ...         ...   \n9         POULTRY                      435.082001   372.350983   317.42099   \n          PREPARED FOODS                31.000000    26.000000    24.00000   \n          PRODUCE                        0.000000     0.000000     0.00000   \n          SCHOOL AND OFFICE SUPPLIES     0.000000     0.000000     0.00000   \n          SEAFOOD                       18.444000    25.000000    13.48400   \n\n                                                  ... onpromotion             \\\ndate                                  2013-01-10  ...  2017-08-06 2017-08-07   \nstore_nbr family                                  ...                          \n1         AUTOMOTIVE                    2.000000  ...           0          0   \n          BABY CARE                     0.000000  ...           0          0   \n          BEAUTY                        3.000000  ...           1          1   \n          BEVERAGES                   847.000000  ...           5          7   \n          BOOKS                         0.000000  ...           0          0   \n...                                          ...  ...         ...        ...   \n9         POULTRY                     351.544006  ...           0          0   \n          PREPARED FOODS               69.000000  ...           1          1   \n          PRODUCE                       0.000000  ...           7          6   \n          SCHOOL AND OFFICE SUPPLIES    0.000000  ...           9         10   \n          SEAFOOD                      25.214001  ...           0          0   \n\n                                                                       \\\ndate                                 2017-08-08 2017-08-09 2017-08-10   \nstore_nbr family                                                        \n1         AUTOMOTIVE                          0          0          0   \n          BABY CARE                           0          0          0   \n          BEAUTY                              1          1          1   \n          BEVERAGES                           7          7          6   \n          BOOKS                               0          0          0   \n...                                         ...        ...        ...   \n9         POULTRY                             0          1          0   \n          PREPARED FOODS                      1          1          1   \n          PRODUCE                           144          6          6   \n          SCHOOL AND OFFICE SUPPLIES          7          8         10   \n          SEAFOOD                             0          0          0   \n\n                                                                       \\\ndate                                 2017-08-11 2017-08-12 2017-08-13   \nstore_nbr family                                                        \n1         AUTOMOTIVE                          0          0          0   \n          BABY CARE                           0          0          0   \n          BEAUTY                              1          1          0   \n          BEVERAGES                           3          7          5   \n          BOOKS                               0          0          0   \n...                                         ...        ...        ...   \n9         POULTRY                            22          0          0   \n          PREPARED FOODS                      3          1          1   \n          PRODUCE                             6          7          7   \n          SCHOOL AND OFFICE SUPPLIES          7         10          8   \n          SEAFOOD                             0          4          0   \n\n                                                            \ndate                                 2017-08-14 2017-08-15  \nstore_nbr family                                            \n1         AUTOMOTIVE                          0          0  \n          BABY CARE                           0          0  \n          BEAUTY                              1          1  \n          BEVERAGES                           9         11  \n          BOOKS                               0          0  \n...                                         ...        ...  \n9         POULTRY                             0          0  \n          PREPARED FOODS                      0          1  \n          PRODUCE                             7        148  \n          SCHOOL AND OFFICE SUPPLIES         11          8  \n          SEAFOOD                             0          0  \n\n[1782 rows x 3368 columns]",
      "text/html": "<div>\n<style scoped>\n    .dataframe tbody tr th:only-of-type {\n        vertical-align: middle;\n    }\n\n    .dataframe tbody tr th {\n        vertical-align: top;\n    }\n\n    .dataframe thead tr th {\n        text-align: left;\n    }\n\n    .dataframe thead tr:last-of-type th {\n        text-align: right;\n    }\n</style>\n<table border=\"1\" class=\"dataframe\">\n  <thead>\n    <tr>\n      <th></th>\n      <th></th>\n      <th colspan=\"10\" halign=\"left\">sales</th>\n      <th>...</th>\n      <th colspan=\"10\" halign=\"left\">onpromotion</th>\n    </tr>\n    <tr>\n      <th></th>\n      <th>date</th>\n      <th>2013-01-01</th>\n      <th>2013-01-02</th>\n      <th>2013-01-03</th>\n      <th>2013-01-04</th>\n      <th>2013-01-05</th>\n      <th>2013-01-06</th>\n      <th>2013-01-07</th>\n      <th>2013-01-08</th>\n      <th>2013-01-09</th>\n      <th>2013-01-10</th>\n      <th>...</th>\n      <th>2017-08-06</th>\n      <th>2017-08-07</th>\n      <th>2017-08-08</th>\n      <th>2017-08-09</th>\n      <th>2017-08-10</th>\n      <th>2017-08-11</th>\n      <th>2017-08-12</th>\n      <th>2017-08-13</th>\n      <th>2017-08-14</th>\n      <th>2017-08-15</th>\n    </tr>\n    <tr>\n      <th>store_nbr</th>\n      <th>family</th>\n      <th></th>\n      <th></th>\n      <th></th>\n      <th></th>\n      <th></th>\n      <th></th>\n      <th></th>\n      <th></th>\n      <th></th>\n      <th></th>\n      <th></th>\n      <th></th>\n      <th></th>\n      <th></th>\n      <th></th>\n      <th></th>\n      <th></th>\n      <th></th>\n      <th></th>\n      <th></th>\n      <th></th>\n    </tr>\n  </thead>\n  <tbody>\n    <tr>\n      <th rowspan=\"5\" valign=\"top\">1</th>\n      <th>AUTOMOTIVE</th>\n      <td>0.0</td>\n      <td>2.000000</td>\n      <td>3.000000</td>\n      <td>3.000000</td>\n      <td>5.000000</td>\n      <td>2.000000</td>\n      <td>0.000000</td>\n      <td>2.000000</td>\n      <td>2.00000</td>\n      <td>2.000000</td>\n      <td>...</td>\n      <td>0</td>\n      <td>0</td>\n      <td>0</td>\n      <td>0</td>\n      <td>0</td>\n      <td>0</td>\n      <td>0</td>\n      <td>0</td>\n      <td>0</td>\n      <td>0</td>\n    </tr>\n    <tr>\n      <th>BABY CARE</th>\n      <td>0.0</td>\n      <td>0.000000</td>\n      <td>0.000000</td>\n      <td>0.000000</td>\n      <td>0.000000</td>\n      <td>0.000000</td>\n      <td>0.000000</td>\n      <td>0.000000</td>\n      <td>0.00000</td>\n      <td>0.000000</td>\n      <td>...</td>\n      <td>0</td>\n      <td>0</td>\n      <td>0</td>\n      <td>0</td>\n      <td>0</td>\n      <td>0</td>\n      <td>0</td>\n      <td>0</td>\n      <td>0</td>\n      <td>0</td>\n    </tr>\n    <tr>\n      <th>BEAUTY</th>\n      <td>0.0</td>\n      <td>2.000000</td>\n      <td>0.000000</td>\n      <td>3.000000</td>\n      <td>3.000000</td>\n      <td>0.000000</td>\n      <td>1.000000</td>\n      <td>3.000000</td>\n      <td>1.00000</td>\n      <td>3.000000</td>\n      <td>...</td>\n      <td>1</td>\n      <td>1</td>\n      <td>1</td>\n      <td>1</td>\n      <td>1</td>\n      <td>1</td>\n      <td>1</td>\n      <td>0</td>\n      <td>1</td>\n      <td>1</td>\n    </tr>\n    <tr>\n      <th>BEVERAGES</th>\n      <td>0.0</td>\n      <td>1091.000000</td>\n      <td>919.000000</td>\n      <td>953.000000</td>\n      <td>1160.000000</td>\n      <td>407.000000</td>\n      <td>1158.000000</td>\n      <td>1029.000000</td>\n      <td>1186.00000</td>\n      <td>847.000000</td>\n      <td>...</td>\n      <td>5</td>\n      <td>7</td>\n      <td>7</td>\n      <td>7</td>\n      <td>6</td>\n      <td>3</td>\n      <td>7</td>\n      <td>5</td>\n      <td>9</td>\n      <td>11</td>\n    </tr>\n    <tr>\n      <th>BOOKS</th>\n      <td>0.0</td>\n      <td>0.000000</td>\n      <td>0.000000</td>\n      <td>0.000000</td>\n      <td>0.000000</td>\n      <td>0.000000</td>\n      <td>0.000000</td>\n      <td>0.000000</td>\n      <td>0.00000</td>\n      <td>0.000000</td>\n      <td>...</td>\n      <td>0</td>\n      <td>0</td>\n      <td>0</td>\n      <td>0</td>\n      <td>0</td>\n      <td>0</td>\n      <td>0</td>\n      <td>0</td>\n      <td>0</td>\n      <td>0</td>\n    </tr>\n    <tr>\n      <th>...</th>\n      <th>...</th>\n      <td>...</td>\n      <td>...</td>\n      <td>...</td>\n      <td>...</td>\n      <td>...</td>\n      <td>...</td>\n      <td>...</td>\n      <td>...</td>\n      <td>...</td>\n      <td>...</td>\n      <td>...</td>\n      <td>...</td>\n      <td>...</td>\n      <td>...</td>\n      <td>...</td>\n      <td>...</td>\n      <td>...</td>\n      <td>...</td>\n      <td>...</td>\n      <td>...</td>\n      <td>...</td>\n    </tr>\n    <tr>\n      <th rowspan=\"5\" valign=\"top\">9</th>\n      <th>POULTRY</th>\n      <td>0.0</td>\n      <td>651.291992</td>\n      <td>509.496002</td>\n      <td>332.671997</td>\n      <td>510.919006</td>\n      <td>604.244019</td>\n      <td>435.082001</td>\n      <td>372.350983</td>\n      <td>317.42099</td>\n      <td>351.544006</td>\n      <td>...</td>\n      <td>0</td>\n      <td>0</td>\n      <td>0</td>\n      <td>1</td>\n      <td>0</td>\n      <td>22</td>\n      <td>0</td>\n      <td>0</td>\n      <td>0</td>\n      <td>0</td>\n    </tr>\n    <tr>\n      <th>PREPARED FOODS</th>\n      <td>0.0</td>\n      <td>83.000000</td>\n      <td>66.000000</td>\n      <td>57.000000</td>\n      <td>84.000000</td>\n      <td>82.000000</td>\n      <td>31.000000</td>\n      <td>26.000000</td>\n      <td>24.00000</td>\n      <td>69.000000</td>\n      <td>...</td>\n      <td>1</td>\n      <td>1</td>\n      <td>1</td>\n      <td>1</td>\n      <td>1</td>\n      <td>3</td>\n      <td>1</td>\n      <td>1</td>\n      <td>0</td>\n      <td>1</td>\n    </tr>\n    <tr>\n      <th>PRODUCE</th>\n      <td>0.0</td>\n      <td>0.000000</td>\n      <td>0.000000</td>\n      <td>0.000000</td>\n      <td>0.000000</td>\n      <td>0.000000</td>\n      <td>0.000000</td>\n      <td>0.000000</td>\n      <td>0.00000</td>\n      <td>0.000000</td>\n      <td>...</td>\n      <td>7</td>\n      <td>6</td>\n      <td>144</td>\n      <td>6</td>\n      <td>6</td>\n      <td>6</td>\n      <td>7</td>\n      <td>7</td>\n      <td>7</td>\n      <td>148</td>\n    </tr>\n    <tr>\n      <th>SCHOOL AND OFFICE SUPPLIES</th>\n      <td>0.0</td>\n      <td>0.000000</td>\n      <td>0.000000</td>\n      <td>0.000000</td>\n      <td>0.000000</td>\n      <td>0.000000</td>\n      <td>0.000000</td>\n      <td>0.000000</td>\n      <td>0.00000</td>\n      <td>0.000000</td>\n      <td>...</td>\n      <td>9</td>\n      <td>10</td>\n      <td>7</td>\n      <td>8</td>\n      <td>10</td>\n      <td>7</td>\n      <td>10</td>\n      <td>8</td>\n      <td>11</td>\n      <td>8</td>\n    </tr>\n    <tr>\n      <th>SEAFOOD</th>\n      <td>0.0</td>\n      <td>29.214001</td>\n      <td>25.000000</td>\n      <td>11.000000</td>\n      <td>28.361000</td>\n      <td>36.553001</td>\n      <td>18.444000</td>\n      <td>25.000000</td>\n      <td>13.48400</td>\n      <td>25.214001</td>\n      <td>...</td>\n      <td>0</td>\n      <td>0</td>\n      <td>0</td>\n      <td>0</td>\n      <td>0</td>\n      <td>0</td>\n      <td>4</td>\n      <td>0</td>\n      <td>0</td>\n      <td>0</td>\n    </tr>\n  </tbody>\n</table>\n<p>1782 rows × 3368 columns</p>\n</div>"
     },
     "execution_count": 4,
     "metadata": {},
     "output_type": "execute_result"
    }
   ],
   "source": [
    "# Setup notebook\n",
    "from pathlib import Path\n",
    "from learntools.time_series.style import *  # plot style settings\n",
    "\n",
    "import matplotlib.pyplot as plt\n",
    "import pandas as pd\n",
    "from sklearn.linear_model import LinearRegression\n",
    "from sklearn.preprocessing import LabelEncoder\n",
    "from statsmodels.tsa.deterministic import DeterministicProcess\n",
    "from xgboost import XGBRegressor\n",
    "\n",
    "store_sales = pd.read_csv(\n",
    "    r'C:\\Users\\Genos\\Projeler\\Python İle Makine Öğrenmesi\\Projeler\\Store Sales\\datasets\\train.csv',\n",
    "    usecols=['store_nbr', 'family', 'date', 'sales', 'onpromotion'],\n",
    "    dtype={\n",
    "        'store_nbr': 'category',\n",
    "        'family': 'category',\n",
    "        'sales': 'float32',\n",
    "    },\n",
    "    parse_dates=['date'],\n",
    "    infer_datetime_format=True,\n",
    ")\n",
    "store_sales['date'] = store_sales.date.dt.to_period('D')\n",
    "store_sales = store_sales.set_index(['store_nbr', 'family', 'date']).sort_index()\n",
    "\n",
    "family_sales = (\n",
    "    store_sales\n",
    "        .groupby(['family', 'date'])\n",
    "        .mean()\n",
    "        .unstack('family')\n",
    "        .loc['2017']\n",
    ")\n",
    "\n",
    "store_sales.unstack()"
   ]
  },
  {
   "cell_type": "code",
   "execution_count": 10,
   "outputs": [
    {
     "data": {
      "text/plain": "                sales                                              \\\nfamily     AUTOMOTIVE BABY CARE     BEAUTY    BEVERAGES     BOOKS   \ndate                                                                \n2017-01-01   0.092593  0.037037   0.055556    74.222221  0.000000   \n2017-01-02  11.481482  0.259259  11.648149  6208.055664  0.481481   \n2017-01-03   8.296296  0.296296   7.185185  4507.814941  0.814815   \n2017-01-04   6.833333  0.333333   6.888889  3911.833252  0.759259   \n2017-01-05   6.333333  0.351852   5.925926  3258.796387  0.407407   \n...               ...       ...        ...          ...       ...   \n2017-08-11   8.166667  0.129630   6.500000  3502.055664  0.000000   \n2017-08-12   7.462963  0.055556   6.833333  3376.259277  0.000000   \n2017-08-13   8.907408  0.166667   8.018518  3747.296387  0.018519   \n2017-08-14   5.407407  0.166667   6.240741  3237.629639  0.000000   \n2017-08-15   6.240741  0.148148   6.277778  3162.462891  0.000000   \n\n                                                                           \\\nfamily     BREAD/BAKERY CELEBRATION     CLEANING        DAIRY        DELI   \ndate                                                                        \n2017-01-01     9.084685    0.129630     7.500000    11.518518    3.629167   \n2017-01-02   844.836304   14.203704  2233.648193  1545.000000  539.114807   \n2017-01-03   665.124084   10.629630  1711.907349  1204.203735  404.300079   \n2017-01-04   594.160583   11.185185  1508.036987  1107.796265  309.397675   \n2017-01-05   495.511597   12.444445  1241.833374   829.277771  260.776489   \n...                 ...         ...          ...          ...         ...   \n2017-08-11   522.305298   16.111111  1031.148193   831.648132  345.934967   \n2017-08-12   507.473114   15.722222  1072.870361   793.592590  290.553589   \n2017-08-13   615.976990   10.074074  1143.648193   928.000000  325.801361   \n2017-08-14   518.564026   11.000000  1019.111084   797.222229  271.532227   \n2017-08-15   539.966553   11.055555  1082.851807   753.833313  276.582458   \n\n            ... onpromotion                                        \\\nfamily      ...   MAGAZINES      MEATS PERSONAL CARE PET SUPPLIES   \ndate        ...                                                     \n2017-01-01  ...         0.0   0.018519      0.111111     0.018519   \n2017-01-02  ...         0.0   0.462963     10.592593     0.537037   \n2017-01-03  ...         0.0   0.481481      9.722222     0.444444   \n2017-01-04  ...         0.0   0.370370     12.037037     0.444444   \n2017-01-05  ...         0.0   8.981481      5.666667     0.000000   \n...         ...         ...        ...           ...          ...   \n2017-08-11  ...         0.0  22.925926      9.000000     0.000000   \n2017-08-12  ...         0.0   0.000000      8.703704     0.000000   \n2017-08-13  ...         0.0   0.000000      9.240741     0.000000   \n2017-08-14  ...         0.0   0.000000      8.722222     0.000000   \n2017-08-15  ...         0.0   0.000000      8.814815     0.000000   \n\n                                                                          \\\nfamily     PLAYERS AND ELECTRONICS    POULTRY PREPARED FOODS     PRODUCE   \ndate                                                                       \n2017-01-01                0.000000   0.000000       0.037037    0.129630   \n2017-01-02                0.000000   0.259259       1.166667    5.629630   \n2017-01-03                0.000000   0.388889       1.351852   56.296296   \n2017-01-04                0.000000   0.296296       5.444444  101.277778   \n2017-01-05                0.000000   0.296296       0.907407    5.018519   \n...                            ...        ...            ...         ...   \n2017-08-11                0.000000  27.407407       0.537037    6.000000   \n2017-08-12                0.018519   0.111111       0.277778    6.000000   \n2017-08-13                0.000000   0.185185       0.222222    5.907407   \n2017-08-14                0.000000   0.129630       0.148148    6.018519   \n2017-08-15                0.092593   0.111111       0.166667   58.685185   \n\n                                                 \nfamily     SCHOOL AND OFFICE SUPPLIES   SEAFOOD  \ndate                                             \n2017-01-01                   0.000000  0.000000  \n2017-01-02                   0.000000  0.407407  \n2017-01-03                   0.000000  0.407407  \n2017-01-04                   0.000000  0.333333  \n2017-01-05                   0.000000  0.444444  \n...                               ...       ...  \n2017-08-11                   2.666667  2.537037  \n2017-08-12                   2.759259  0.759259  \n2017-08-13                   2.777778  0.018519  \n2017-08-14                   2.851852  0.000000  \n2017-08-15                   2.740741  0.000000  \n\n[227 rows x 66 columns]",
      "text/html": "<div>\n<style scoped>\n    .dataframe tbody tr th:only-of-type {\n        vertical-align: middle;\n    }\n\n    .dataframe tbody tr th {\n        vertical-align: top;\n    }\n\n    .dataframe thead tr th {\n        text-align: left;\n    }\n\n    .dataframe thead tr:last-of-type th {\n        text-align: right;\n    }\n</style>\n<table border=\"1\" class=\"dataframe\">\n  <thead>\n    <tr>\n      <th></th>\n      <th colspan=\"10\" halign=\"left\">sales</th>\n      <th>...</th>\n      <th colspan=\"10\" halign=\"left\">onpromotion</th>\n    </tr>\n    <tr>\n      <th>family</th>\n      <th>AUTOMOTIVE</th>\n      <th>BABY CARE</th>\n      <th>BEAUTY</th>\n      <th>BEVERAGES</th>\n      <th>BOOKS</th>\n      <th>BREAD/BAKERY</th>\n      <th>CELEBRATION</th>\n      <th>CLEANING</th>\n      <th>DAIRY</th>\n      <th>DELI</th>\n      <th>...</th>\n      <th>MAGAZINES</th>\n      <th>MEATS</th>\n      <th>PERSONAL CARE</th>\n      <th>PET SUPPLIES</th>\n      <th>PLAYERS AND ELECTRONICS</th>\n      <th>POULTRY</th>\n      <th>PREPARED FOODS</th>\n      <th>PRODUCE</th>\n      <th>SCHOOL AND OFFICE SUPPLIES</th>\n      <th>SEAFOOD</th>\n    </tr>\n    <tr>\n      <th>date</th>\n      <th></th>\n      <th></th>\n      <th></th>\n      <th></th>\n      <th></th>\n      <th></th>\n      <th></th>\n      <th></th>\n      <th></th>\n      <th></th>\n      <th></th>\n      <th></th>\n      <th></th>\n      <th></th>\n      <th></th>\n      <th></th>\n      <th></th>\n      <th></th>\n      <th></th>\n      <th></th>\n      <th></th>\n    </tr>\n  </thead>\n  <tbody>\n    <tr>\n      <th>2017-01-01</th>\n      <td>0.092593</td>\n      <td>0.037037</td>\n      <td>0.055556</td>\n      <td>74.222221</td>\n      <td>0.000000</td>\n      <td>9.084685</td>\n      <td>0.129630</td>\n      <td>7.500000</td>\n      <td>11.518518</td>\n      <td>3.629167</td>\n      <td>...</td>\n      <td>0.0</td>\n      <td>0.018519</td>\n      <td>0.111111</td>\n      <td>0.018519</td>\n      <td>0.000000</td>\n      <td>0.000000</td>\n      <td>0.037037</td>\n      <td>0.129630</td>\n      <td>0.000000</td>\n      <td>0.000000</td>\n    </tr>\n    <tr>\n      <th>2017-01-02</th>\n      <td>11.481482</td>\n      <td>0.259259</td>\n      <td>11.648149</td>\n      <td>6208.055664</td>\n      <td>0.481481</td>\n      <td>844.836304</td>\n      <td>14.203704</td>\n      <td>2233.648193</td>\n      <td>1545.000000</td>\n      <td>539.114807</td>\n      <td>...</td>\n      <td>0.0</td>\n      <td>0.462963</td>\n      <td>10.592593</td>\n      <td>0.537037</td>\n      <td>0.000000</td>\n      <td>0.259259</td>\n      <td>1.166667</td>\n      <td>5.629630</td>\n      <td>0.000000</td>\n      <td>0.407407</td>\n    </tr>\n    <tr>\n      <th>2017-01-03</th>\n      <td>8.296296</td>\n      <td>0.296296</td>\n      <td>7.185185</td>\n      <td>4507.814941</td>\n      <td>0.814815</td>\n      <td>665.124084</td>\n      <td>10.629630</td>\n      <td>1711.907349</td>\n      <td>1204.203735</td>\n      <td>404.300079</td>\n      <td>...</td>\n      <td>0.0</td>\n      <td>0.481481</td>\n      <td>9.722222</td>\n      <td>0.444444</td>\n      <td>0.000000</td>\n      <td>0.388889</td>\n      <td>1.351852</td>\n      <td>56.296296</td>\n      <td>0.000000</td>\n      <td>0.407407</td>\n    </tr>\n    <tr>\n      <th>2017-01-04</th>\n      <td>6.833333</td>\n      <td>0.333333</td>\n      <td>6.888889</td>\n      <td>3911.833252</td>\n      <td>0.759259</td>\n      <td>594.160583</td>\n      <td>11.185185</td>\n      <td>1508.036987</td>\n      <td>1107.796265</td>\n      <td>309.397675</td>\n      <td>...</td>\n      <td>0.0</td>\n      <td>0.370370</td>\n      <td>12.037037</td>\n      <td>0.444444</td>\n      <td>0.000000</td>\n      <td>0.296296</td>\n      <td>5.444444</td>\n      <td>101.277778</td>\n      <td>0.000000</td>\n      <td>0.333333</td>\n    </tr>\n    <tr>\n      <th>2017-01-05</th>\n      <td>6.333333</td>\n      <td>0.351852</td>\n      <td>5.925926</td>\n      <td>3258.796387</td>\n      <td>0.407407</td>\n      <td>495.511597</td>\n      <td>12.444445</td>\n      <td>1241.833374</td>\n      <td>829.277771</td>\n      <td>260.776489</td>\n      <td>...</td>\n      <td>0.0</td>\n      <td>8.981481</td>\n      <td>5.666667</td>\n      <td>0.000000</td>\n      <td>0.000000</td>\n      <td>0.296296</td>\n      <td>0.907407</td>\n      <td>5.018519</td>\n      <td>0.000000</td>\n      <td>0.444444</td>\n    </tr>\n    <tr>\n      <th>...</th>\n      <td>...</td>\n      <td>...</td>\n      <td>...</td>\n      <td>...</td>\n      <td>...</td>\n      <td>...</td>\n      <td>...</td>\n      <td>...</td>\n      <td>...</td>\n      <td>...</td>\n      <td>...</td>\n      <td>...</td>\n      <td>...</td>\n      <td>...</td>\n      <td>...</td>\n      <td>...</td>\n      <td>...</td>\n      <td>...</td>\n      <td>...</td>\n      <td>...</td>\n      <td>...</td>\n    </tr>\n    <tr>\n      <th>2017-08-11</th>\n      <td>8.166667</td>\n      <td>0.129630</td>\n      <td>6.500000</td>\n      <td>3502.055664</td>\n      <td>0.000000</td>\n      <td>522.305298</td>\n      <td>16.111111</td>\n      <td>1031.148193</td>\n      <td>831.648132</td>\n      <td>345.934967</td>\n      <td>...</td>\n      <td>0.0</td>\n      <td>22.925926</td>\n      <td>9.000000</td>\n      <td>0.000000</td>\n      <td>0.000000</td>\n      <td>27.407407</td>\n      <td>0.537037</td>\n      <td>6.000000</td>\n      <td>2.666667</td>\n      <td>2.537037</td>\n    </tr>\n    <tr>\n      <th>2017-08-12</th>\n      <td>7.462963</td>\n      <td>0.055556</td>\n      <td>6.833333</td>\n      <td>3376.259277</td>\n      <td>0.000000</td>\n      <td>507.473114</td>\n      <td>15.722222</td>\n      <td>1072.870361</td>\n      <td>793.592590</td>\n      <td>290.553589</td>\n      <td>...</td>\n      <td>0.0</td>\n      <td>0.000000</td>\n      <td>8.703704</td>\n      <td>0.000000</td>\n      <td>0.018519</td>\n      <td>0.111111</td>\n      <td>0.277778</td>\n      <td>6.000000</td>\n      <td>2.759259</td>\n      <td>0.759259</td>\n    </tr>\n    <tr>\n      <th>2017-08-13</th>\n      <td>8.907408</td>\n      <td>0.166667</td>\n      <td>8.018518</td>\n      <td>3747.296387</td>\n      <td>0.018519</td>\n      <td>615.976990</td>\n      <td>10.074074</td>\n      <td>1143.648193</td>\n      <td>928.000000</td>\n      <td>325.801361</td>\n      <td>...</td>\n      <td>0.0</td>\n      <td>0.000000</td>\n      <td>9.240741</td>\n      <td>0.000000</td>\n      <td>0.000000</td>\n      <td>0.185185</td>\n      <td>0.222222</td>\n      <td>5.907407</td>\n      <td>2.777778</td>\n      <td>0.018519</td>\n    </tr>\n    <tr>\n      <th>2017-08-14</th>\n      <td>5.407407</td>\n      <td>0.166667</td>\n      <td>6.240741</td>\n      <td>3237.629639</td>\n      <td>0.000000</td>\n      <td>518.564026</td>\n      <td>11.000000</td>\n      <td>1019.111084</td>\n      <td>797.222229</td>\n      <td>271.532227</td>\n      <td>...</td>\n      <td>0.0</td>\n      <td>0.000000</td>\n      <td>8.722222</td>\n      <td>0.000000</td>\n      <td>0.000000</td>\n      <td>0.129630</td>\n      <td>0.148148</td>\n      <td>6.018519</td>\n      <td>2.851852</td>\n      <td>0.000000</td>\n    </tr>\n    <tr>\n      <th>2017-08-15</th>\n      <td>6.240741</td>\n      <td>0.148148</td>\n      <td>6.277778</td>\n      <td>3162.462891</td>\n      <td>0.000000</td>\n      <td>539.966553</td>\n      <td>11.055555</td>\n      <td>1082.851807</td>\n      <td>753.833313</td>\n      <td>276.582458</td>\n      <td>...</td>\n      <td>0.0</td>\n      <td>0.000000</td>\n      <td>8.814815</td>\n      <td>0.000000</td>\n      <td>0.092593</td>\n      <td>0.111111</td>\n      <td>0.166667</td>\n      <td>58.685185</td>\n      <td>2.740741</td>\n      <td>0.000000</td>\n    </tr>\n  </tbody>\n</table>\n<p>227 rows × 66 columns</p>\n</div>"
     },
     "execution_count": 10,
     "metadata": {},
     "output_type": "execute_result"
    }
   ],
   "source": [
    "family_sales"
   ],
   "metadata": {
    "collapsed": false,
    "pycharm": {
     "name": "#%%\n"
    }
   }
  },
  {
   "cell_type": "markdown",
   "source": [
    "Sonraki iki soruda, yeni bir Python sınıfı uygulayarak Store Sales için boosted hybrid oluşturacağız.\n",
    "İlk sınıf tanımını oluşturmak için bu hücreyi çalıştırın. Scikit-learn benzeri bir arayüz vermek için uygun ve tahmin yöntemleri ekleyeceksiniz."
   ],
   "metadata": {
    "collapsed": false
   }
  },
  {
   "cell_type": "code",
   "execution_count": null,
   "outputs": [],
   "source": [
    "# You'll add fit and predict methods to this minimal class\n",
    "class BoostedHybrid:\n",
    "    def __init__(self, model_1, model_2):\n",
    "        self.model_1 = model_1\n",
    "        self.model_2 = model_2\n",
    "        self.y_columns = None  # store column names from fit method"
   ],
   "metadata": {
    "collapsed": false,
    "pycharm": {
     "name": "#%%\n"
    }
   }
  },
  {
   "cell_type": "markdown",
   "source": [
    "### 1) Define fit method for boosted hybrid (Güçlendirilmiş hibrit için uyum yöntemini tanımlayın)"
   ],
   "metadata": {
    "collapsed": false
   }
  },
  {
   "cell_type": "markdown",
   "source": [
    "BoostedHybrid sınıfı için uygunluk tanımını tamamlayın. Gerekirse öğreticideki Hybrid Forecasting with Residuals bölümündeki 1. ve 2. adımlara geri dönün."
   ],
   "metadata": {
    "collapsed": false
   }
  },
  {
   "cell_type": "code",
   "execution_count": null,
   "outputs": [],
   "source": [
    "def fit(self, X_1, X_2, y):\n",
    "    # YOUR CODE HERE: fit self.model_1\n",
    "    self.model_1.fit(X_1, y)\n",
    "\n",
    "    # Make predictions with self.model_1\n",
    "    y_fit = pd.DataFrame(\n",
    "        # YOUR CODE HERE: make predictions with self.model_1\n",
    "        self.model_1.predict(X_1),\n",
    "        index=X_1.index, columns=y.columns,\n",
    "    )\n",
    "\n",
    "    # YOUR CODE HERE: compute residuals\n",
    "    y_resid = y - y_fit\n",
    "    y_resid = y_resid.stack().squeeze()  # wide to long\n",
    "\n",
    "    # YOUR CODE HERE: fit self.model_2 on residuals\n",
    "    self.model_2.fit(X_2, y_resid)\n",
    "\n",
    "    # Save column names for predict method\n",
    "    self.y_columns = y.columns\n",
    "    # Save data for question checking\n",
    "    self.y_fit = y_fit\n",
    "    self.y_resid = y_resid\n",
    "\n",
    "\n",
    "# Add method to class\n",
    "BoostedHybrid.fit = fit"
   ],
   "metadata": {
    "collapsed": false,
    "pycharm": {
     "name": "#%%\n"
    }
   }
  },
  {
   "cell_type": "markdown",
   "source": [
    "### 2) Define predict method for boosted hybrid (2) Güçlendirilmiş hibrit için tahmin yöntemini tanımlayın)"
   ],
   "metadata": {
    "collapsed": false
   }
  },
  {
   "cell_type": "markdown",
   "source": [
    "Şimdi BoostedHybrid sınıfı için tahmin yöntemini tanımlayın. Gerekirse öğreticideki Hybrid Forecasting with Residuals 3. adıma geri dönün."
   ],
   "metadata": {
    "collapsed": false
   }
  },
  {
   "cell_type": "code",
   "execution_count": null,
   "outputs": [],
   "source": [
    "def predict(self, X_1, X_2):\n",
    "    y_pred = pd.DataFrame(\n",
    "        # YOUR CODE HERE: predict with self.model_1\n",
    "        self.model_1.predict(X_1),\n",
    "        index=X_1.index, columns=self.y_columns,\n",
    "    )\n",
    "    y_pred = y_pred.stack().squeeze()  # wide to long\n",
    "\n",
    "    # YOUR CODE HERE: add self.model_2 predictions to y_pred\n",
    "    y_pred += self.model_2.predict(X_2)\n",
    "\n",
    "    return y_pred.unstack()  # long to wide\n",
    "\n",
    "\n",
    "# Add method to class\n",
    "BoostedHybrid.predict = predict"
   ],
   "metadata": {
    "collapsed": false,
    "pycharm": {
     "name": "#%%\n"
    }
   }
  },
  {
   "cell_type": "markdown",
   "source": [
    "Artık Mağaza Satışları verileri için bir model oluşturmak üzere yeni BoostedHybrid sınıfınızı kullanmaya hazırsınız. Eğitim için verileri ayarlamak için sonraki hücreyi çalıştırın."
   ],
   "metadata": {
    "collapsed": false
   }
  },
  {
   "cell_type": "code",
   "execution_count": null,
   "outputs": [],
   "source": [
    "# Target series\n",
    "y = family_sales.loc[:, 'sales']\n",
    "\n",
    "# X_1: Features for Linear Regression\n",
    "dp = DeterministicProcess(index=y.index, order=1)\n",
    "X_1 = dp.in_sample()\n",
    "\n",
    "# X_2: Features for XGBoost\n",
    "X_2 = family_sales.drop('sales', axis=1).stack()  # onpromotion feature\n",
    "\n",
    "# Label encoding for 'family'\n",
    "le = LabelEncoder()  # from sklearn.preprocessing\n",
    "X_2 = X_2.reset_index('family')\n",
    "X_2['family'] = le.fit_transform(X_2['family'])\n",
    "\n",
    "# Label encoding for seasonality\n",
    "X_2[\"day\"] = X_2.index.day  # values are day of the month\n",
    "\n",
    "X_2"
   ],
   "metadata": {
    "collapsed": false,
    "pycharm": {
     "name": "#%%\n"
    }
   }
  },
  {
   "cell_type": "markdown",
   "source": [
    "### 3) Train boosted hybrid\n"
   ],
   "metadata": {
    "collapsed": false
   }
  },
  {
   "cell_type": "markdown",
   "source": [
    "LinearRegression() ve XGBRegressor() örnekleriyle bir BoostedHybrid sınıfını başlatarak hibrit modeli oluşturun."
   ],
   "metadata": {
    "collapsed": false,
    "pycharm": {
     "name": "#%% md\n"
    }
   }
  },
  {
   "cell_type": "code",
   "execution_count": null,
   "outputs": [],
   "source": [
    "# YOUR CODE HERE: Create LinearRegression + XGBRegressor hybrid with BoostedHybrid\n",
    "model = BoostedHybrid(\n",
    "    model_1=LinearRegression(),\n",
    "    model_2=XGBRegressor(),\n",
    ")\n",
    "\n",
    "# YOUR CODE HERE: Fit and predict\n",
    "model.fit(X_1, X_2, y)\n",
    "y_pred = model.predict(X_1, X_2)\n",
    "\n",
    "y_pred = y_pred.clip(0.0)"
   ],
   "metadata": {
    "collapsed": false,
    "pycharm": {
     "name": "#%%\n"
    }
   }
  },
  {
   "cell_type": "markdown",
   "source": [
    "Sorununuza bağlı olarak, önceki sorularda oluşturduğunuz lineer regresyon + XGBoost hibriti dışında başka hibrit kombinasyonları kullanmak isteyebilirsiniz. scikit-learn'den diğer algoritmaları denemek için sonraki hücreyi çalıştırın."
   ],
   "metadata": {
    "collapsed": false
   }
  },
  {
   "cell_type": "code",
   "execution_count": null,
   "outputs": [],
   "source": [
    "# Model 1 (trend)\n",
    "from pyearth import Earth\n",
    "from sklearn.linear_model import ElasticNet, Lasso, Ridge\n",
    "\n",
    "# Model 2\n",
    "from sklearn.ensemble import ExtraTreesRegressor, RandomForestRegressor\n",
    "from sklearn.neighbors import KNeighborsRegressor\n",
    "from sklearn.neural_network import MLPRegressor\n",
    "\n",
    "# Boosted Hybrid\n",
    "\n",
    "# YOUR CODE HERE: Try different combinations of the algorithms above\n",
    "model = BoostedHybrid(\n",
    "    model_1=Ridge(),\n",
    "    model_2=KNeighborsRegressor(),\n",
    ")"
   ],
   "metadata": {
    "collapsed": false,
    "pycharm": {
     "name": "#%%\n"
    }
   }
  },
  {
   "cell_type": "markdown",
   "source": [
    "Bunlar sadece bazı öneriler. scikit-learn [Kullanıcı Kılavuzunda](https://scikit-learn.org/stable/supervised_learning.html) beğendiğiniz diğer algoritmaları keşfedebilirsiniz.\n",
    "\n",
    "Hybrid modellerin yaptığı tahminleri görmek için bu hücredeki kodu kullanın."
   ],
   "metadata": {
    "collapsed": false
   }
  },
  {
   "cell_type": "code",
   "execution_count": null,
   "outputs": [],
   "source": [
    "y_train, y_valid = y[:\"2017-07-01\"], y[\"2017-07-02\":]\n",
    "X1_train, X1_valid = X_1[: \"2017-07-01\"], X_1[\"2017-07-02\":]\n",
    "X2_train, X2_valid = X_2[: \"2017-07-01\"], X_2[\"2017-07-02\":]\n",
    "\n",
    "# Some of the algorithms above do best with certain kinds of\n",
    "# preprocessing on the features (like standardization), but this is\n",
    "# just a demo.\n",
    "model.fit(X1_train, X2_train, y_train)\n",
    "y_fit = model.predict(X1_train, X2_train).clip(0.0)\n",
    "y_pred = model.predict(X1_valid, X2_valid).clip(0.0)\n",
    "\n",
    "families = y.columns[0:6]\n",
    "axs = y.loc(axis=1)[families].plot(\n",
    "    subplots=True, sharex=True, figsize=(11, 9), **plot_params, alpha=0.5,\n",
    ")\n",
    "_ = y_fit.loc(axis=1)[families].plot(subplots=True, sharex=True, color='C0', ax=axs)\n",
    "_ = y_pred.loc(axis=1)[families].plot(subplots=True, sharex=True, color='C3', ax=axs)\n",
    "for ax, family in zip(axs, families):\n",
    "    ax.legend([])\n",
    "    ax.set_ylabel(family)"
   ],
   "metadata": {
    "collapsed": false,
    "pycharm": {
     "name": "#%%\n"
    }
   }
  },
  {
   "cell_type": "code",
   "execution_count": null,
   "outputs": [],
   "source": [],
   "metadata": {
    "collapsed": false,
    "pycharm": {
     "name": "#%%\n"
    }
   }
  }
 ],
 "metadata": {
  "kernelspec": {
   "display_name": "Python 3",
   "language": "python",
   "name": "python3"
  },
  "language_info": {
   "codemirror_mode": {
    "name": "ipython",
    "version": 2
   },
   "file_extension": ".py",
   "mimetype": "text/x-python",
   "name": "python",
   "nbconvert_exporter": "python",
   "pygments_lexer": "ipython2",
   "version": "2.7.6"
  }
 },
 "nbformat": 4,
 "nbformat_minor": 0
}